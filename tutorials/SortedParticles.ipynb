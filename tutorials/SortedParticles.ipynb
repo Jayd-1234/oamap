{
 "cells": [
  {
   "cell_type": "markdown",
   "metadata": {},
   "source": [
    "# Sorting multiple particle types at once\n",
    "\n",
    "This notebook is a follow-up to [Zonemaps](Zonemaps.ipynb).\n",
    "\n",
    "Zonemaps let us skip over groups of events that don't have the particles we're looking for, but unless the cuts eliminate more than a factor of 1024 or so (i.e. 4 kB pages / 4-byte floats), those pages will still be loaded from disk into DRAM and/or from DRAM into CPU cache. That's because touching data anywhere on the page loads the whole page. Very deep cuts (more than a factor of ~1024) have a chance of missing whole pages, but shallow cuts, like one that drops 90% of the events, would only be skipping 90% of predicate-evaluations, not data-loading.\n",
    "\n",
    "To make the zonemaps more effective, we can additionally sort the events. Sorting implies only one attribute, but $p_T$ is a very natural choice in HEP. If we sort events by particle $p_T$ and then use zonemaps to skip events by $p_T$ and other attributes (second and third highest $p_T$ per event are considered \"other attributes\"), then all of the hits will be concentrated at one end of the array. Fewer pages will be unnecessarily loaded, even for very shallow cuts: a cut that eliminates only half of the data will load roughly half of the pages, and that could be a factor-of-two win.\n",
    "\n",
    "However, which particle's $p_T$? Different physics groups would be interested in different particles, and sorting by jet $p_T$ would improve jet access while worsening muon access.\n",
    "\n",
    "In this notebook, I demonstrate a feature I added to PLUR: different particles can be sorted— event-wise— in different orders. This sorting is internal: the user sees events in the original order, but each set of particle arrays is laid out in an order that is sorted by that particle's $p_T$. The event pointer has to jump non-sequentially to access the sorted data.\n",
    "\n",
    "It remains to be seen whether it's better to avoid reading unnecessary pages or to have sequential access to the particles. (If reading is from disk, I'd expect non-sequential access to be a smaller penalty.)"
   ]
  },
  {
   "cell_type": "code",
   "execution_count": 1,
   "metadata": {
    "collapsed": true
   },
   "outputs": [],
   "source": [
    "from math import *\n",
    "\n",
    "import numpy\n",
    "\n",
    "from plur.types import *\n",
    "from plur.python.data import *"
   ]
  },
  {
   "cell_type": "markdown",
   "metadata": {},
   "source": [
    "First, we load some data as before."
   ]
  },
  {
   "cell_type": "code",
   "execution_count": 2,
   "metadata": {},
   "outputs": [
    {
     "data": {
      "text/plain": [
       "['events-Lo',\n",
       " 'events-Ld-R_Muon-Lo',\n",
       " 'events-Ld-R_Muon-Ld-R_pt',\n",
       " 'events-Ld-R_Muon-Ld-R_phi',\n",
       " 'events-Ld-R_Muon-Ld-R_eta',\n",
       " 'events-Ld-R_AK4CHS-Lo',\n",
       " 'events-Ld-R_AK4CHS-Ld-R_pt',\n",
       " 'events-Ld-R_AK4CHS-Ld-R_phi',\n",
       " 'events-Ld-R_AK4CHS-Ld-R_eta']"
      ]
     },
     "execution_count": 2,
     "metadata": {},
     "output_type": "execute_result"
    }
   ],
   "source": [
    "# pick a sample; naturally, this link to my home directory won't work for you\n",
    "directory = \"/home/pivarski/storage/data/TTJets_allevents/0/\"\n",
    "\n",
    "# \"AK4CHS\" are jets, \"Muon\" are muons\n",
    "arrays = {n: numpy.load(directory + n + \".npy\") for n in (\"events-Lo\", \"events-Ld-R_Muon-Lo\", \"events-Ld-R_Muon-Ld-R_pt\", \"events-Ld-R_Muon-Ld-R_eta\", \"events-Ld-R_Muon-Ld-R_phi\", \"events-Ld-R_AK4CHS-Lo\", \"events-Ld-R_AK4CHS-Ld-R_pt\", \"events-Ld-R_AK4CHS-Ld-R_eta\", \"events-Ld-R_AK4CHS-Ld-R_phi\")}\n",
    "\n",
    "# look at the names of what we picked\n",
    "sorted(arrays.keys(), reverse=True)"
   ]
  },
  {
   "cell_type": "markdown",
   "metadata": {},
   "source": [
    "Print out a few of them. The \"`at 0x0`\", \"`at 0x1`\", \"`at 0x2`\", etc. in each string representation is the index that each proxy uses to find data in the arrays. Python objects typically show their pointer addresses, which are large, non-sequential numbers. These numbers are small and sequential because, by default, we start at the beginnings of the arrays and continue sequentially to the end."
   ]
  },
  {
   "cell_type": "code",
   "execution_count": 3,
   "metadata": {},
   "outputs": [
    {
     "name": "stdout",
     "output_type": "stream",
     "text": [
      "event: <events at 0x0>\n",
      "    muons: <Muon at 0x0>\n",
      "    jets: <AK4CHS at 0x0> <AK4CHS at 0x1> <AK4CHS at 0x2> <AK4CHS at 0x3> <AK4CHS at 0x4> <AK4CHS at 0x5>\n",
      "\n",
      "event: <events at 0x1>\n",
      "    muons: \n",
      "    jets: <AK4CHS at 0x6> <AK4CHS at 0x7> <AK4CHS at 0x8> <AK4CHS at 0x9> <AK4CHS at 0xa> <AK4CHS at 0xb> <AK4CHS at 0xc>\n",
      "\n",
      "event: <events at 0x2>\n",
      "    muons: <Muon at 0x1> <Muon at 0x2> <Muon at 0x3>\n",
      "    jets: <AK4CHS at 0xd> <AK4CHS at 0xe> <AK4CHS at 0xf> <AK4CHS at 0x10> <AK4CHS at 0x11> <AK4CHS at 0x12> <AK4CHS at 0x13> <AK4CHS at 0x14> <AK4CHS at 0x15> <AK4CHS at 0x16>\n",
      "\n",
      "event: <events at 0x3>\n",
      "    muons: <Muon at 0x4> <Muon at 0x5> <Muon at 0x6>\n",
      "    jets: <AK4CHS at 0x17> <AK4CHS at 0x18> <AK4CHS at 0x19> <AK4CHS at 0x1a> <AK4CHS at 0x1b> <AK4CHS at 0x1c> <AK4CHS at 0x1d>\n",
      "\n"
     ]
    }
   ],
   "source": [
    "events = fromarrays(\"events\", arrays)\n",
    "for event in events[:4]:\n",
    "    print(\"event: \" + repr(event))\n",
    "    print(\"    muons: \" + \" \".join(repr(muon) for muon in event.Muon))\n",
    "    print(\"    jets: \" + \" \".join(repr(jet) for jet in event.AK4CHS))\n",
    "    print(\"\")"
   ]
  },
  {
   "cell_type": "markdown",
   "metadata": {},
   "source": [
    "## Sorting arrays\n",
    "\n",
    "Now get data to sort the arrays. We need one value per event, and the highest particle $p_T$ (for each type of particle) is the natural choice."
   ]
  },
  {
   "cell_type": "code",
   "execution_count": 4,
   "metadata": {
    "collapsed": true
   },
   "outputs": [],
   "source": [
    "muonpt1 = numpy.zeros(len(events), dtype=numpy.float32)\n",
    "jetpt1 = numpy.zeros(len(events), dtype=numpy.float32)\n",
    "\n",
    "for eventi, event in enumerate(events):\n",
    "    for muon in event.Muon:\n",
    "        if muon.pt > muonpt1[eventi]:\n",
    "            muonpt1[eventi] = muon.pt     # assume muons are unsorted (I don't know for sure)\n",
    "\n",
    "    for jet in event.AK4CHS:\n",
    "        if jet.pt > jetpt1[eventi]:\n",
    "            jetpt1[eventi] = jet.pt       # assume jets are unsorted (I don't know for sure)"
   ]
  },
  {
   "cell_type": "markdown",
   "metadata": {},
   "source": [
    "Get an argsort so that we can apply the same sort-order to all attributes in the particle tables. One argsort per particle type."
   ]
  },
  {
   "cell_type": "code",
   "execution_count": 5,
   "metadata": {},
   "outputs": [
    {
     "name": "stdout",
     "output_type": "stream",
     "text": [
      "[ 3582  9878 25486 37848 15068  9285 18487  8826 22319  9612]\n",
      "[12665 19515 10279 21718 34930 33891 20522 39713 28183  5027]\n"
     ]
    }
   ],
   "source": [
    "muonorder = muonpt1.argsort()[::-1]   # prefer max to min ordering\n",
    "jetorder = jetpt1.argsort()[::-1]\n",
    "\n",
    "print(muonorder[:10])\n",
    "print(jetorder[:10])"
   ]
  },
  {
   "cell_type": "markdown",
   "metadata": {},
   "source": [
    "To verify that this worked, look at the $p_T$ of all particles in the event with highest $p_T$ (separately for each particle). You should see at least one huge value— thousands (of GeV) is huge. The other particles in this even don't necessarily have huge $p_T$ values, though they might."
   ]
  },
  {
   "cell_type": "code",
   "execution_count": 6,
   "metadata": {},
   "outputs": [
    {
     "name": "stdout",
     "output_type": "stream",
     "text": [
      "[27280.783, 20.993748, 6.5631175, 3.9093113, 3.6213717, 3.1027567]\n",
      "[1408.762, 1274.2667, 656.65344, 88.645607, 57.03783, 30.398226, 28.817825]\n"
     ]
    }
   ],
   "source": [
    "print([muon.pt for muon in events[muonorder[0]].Muon])\n",
    "print([jet.pt for jet in events[jetorder[0]].AK4CHS])"
   ]
  },
  {
   "cell_type": "markdown",
   "metadata": {},
   "source": [
    "Now here's the tricky part. We have an argsort for attributes of the _event_ (highest $p_T$ per event), but we need an expanded argsort for all particles in each event.\n",
    "\n",
    "The expanded argsort has the same number of elements as particles (or equivalently, the $p_T$ array). We want this sort order to move all particles in an event like the event-level argsort, but keep all particles together. We have to use for loops to do this (which can be accelerated by PLUR; don't worry about the speed of the code below)."
   ]
  },
  {
   "cell_type": "code",
   "execution_count": 7,
   "metadata": {
    "collapsed": true
   },
   "outputs": [],
   "source": [
    "muonorder_expanded = numpy.empty(len(arrays[\"events-Ld-R_Muon-Ld-R_pt\"]), dtype=muonorder.dtype)\n",
    "muonbegin = numpy.empty(len(events), dtype=numpy.int64)\n",
    "muonend = numpy.empty(len(events), dtype=numpy.int64)\n",
    "\n",
    "index = 0\n",
    "for sortedi in muonorder:\n",
    "    muonbegin[sortedi] = index\n",
    "    for j in range(len(events[sortedi].Muon)):\n",
    "        muonorder_expanded[index] = arrays[\"events-Ld-R_Muon-Lo\"][sortedi] + j\n",
    "        index += 1\n",
    "    muonend[sortedi] = index\n",
    "\n",
    "jetorder_expanded = numpy.empty(len(arrays[\"events-Ld-R_AK4CHS-Ld-R_pt\"]), dtype=jetorder.dtype)\n",
    "jetbegin = numpy.empty(len(events), dtype=numpy.int64)\n",
    "jetend = numpy.empty(len(events), dtype=numpy.int64)\n",
    "\n",
    "index = 0\n",
    "for sortedi in jetorder:\n",
    "    jetbegin[sortedi] = index\n",
    "    for j in range(len(events[sortedi].AK4CHS)):\n",
    "        jetorder_expanded[index] = arrays[\"events-Ld-R_AK4CHS-Lo\"][sortedi] + j\n",
    "        index += 1\n",
    "    jetend[sortedi] = index"
   ]
  },
  {
   "cell_type": "markdown",
   "metadata": {},
   "source": [
    "Now we make a new dataset of sorted data. Each of the muon's attributes is rearranged by the `muonorder_expanded`, and each of the jet's attributes is rearranged by the `jetorder_expanded`.\n",
    "\n",
    "Also, instead of \"list offset\" arrays (ending in `-Lo`), we now have \"list begin\" and \"list end\" arrays (ending in `-Lb` and `-Le`). The new feature in PLUR is that we can have different begins and ends, which allows a sequential traversal over logical events to be non-sequential in the underlying arrays."
   ]
  },
  {
   "cell_type": "code",
   "execution_count": 8,
   "metadata": {
    "collapsed": true
   },
   "outputs": [],
   "source": [
    "sortedarrays = {\n",
    "    \"sortedevents-Lo\":                   arrays[\"events-Lo\"],\n",
    "    \"sortedevents-Ld-R_Muon-Lb\":         muonbegin,\n",
    "    \"sortedevents-Ld-R_Muon-Le\":         muonend,\n",
    "    \"sortedevents-Ld-R_Muon-Ld-R_pt\":    arrays[\"events-Ld-R_Muon-Ld-R_pt\"][muonorder_expanded],\n",
    "    \"sortedevents-Ld-R_Muon-Ld-R_phi\":   arrays[\"events-Ld-R_Muon-Ld-R_phi\"][muonorder_expanded],\n",
    "    \"sortedevents-Ld-R_Muon-Ld-R_eta\":   arrays[\"events-Ld-R_Muon-Ld-R_eta\"][muonorder_expanded],\n",
    "    \"sortedevents-Ld-R_AK4CHS-Lb\":       jetbegin,\n",
    "    \"sortedevents-Ld-R_AK4CHS-Le\":       jetend,\n",
    "    \"sortedevents-Ld-R_AK4CHS-Ld-R_pt\":  arrays[\"events-Ld-R_AK4CHS-Ld-R_pt\"][jetorder_expanded],\n",
    "    \"sortedevents-Ld-R_AK4CHS-Ld-R_phi\": arrays[\"events-Ld-R_AK4CHS-Ld-R_phi\"][jetorder_expanded],\n",
    "    \"sortedevents-Ld-R_AK4CHS-Ld-R_eta\": arrays[\"events-Ld-R_AK4CHS-Ld-R_eta\"][jetorder_expanded]}\n",
    "\n",
    "sortedevents = fromarrays(\"sortedevents\", sortedarrays)"
   ]
  },
  {
   "cell_type": "markdown",
   "metadata": {},
   "source": [
    "Just to see that this worked, print out the first (logical) event in `events` and `sortedevents`.\n",
    "\n",
    "Both collections have the same contents, as seen by the user."
   ]
  },
  {
   "cell_type": "code",
   "execution_count": 9,
   "metadata": {},
   "outputs": [
    {
     "name": "stdout",
     "output_type": "stream",
     "text": [
      "original:\n",
      "(28.070749, -2.5696332, -1.3311582)\n",
      "\n",
      "sorted:  \n",
      "(28.070749, -2.5696332, -1.3311582)\n"
     ]
    }
   ],
   "source": [
    "which = 0\n",
    "print(\"original:\\n\" + \"\\n\".join(repr((muon.pt, muon.phi, muon.eta)) for muon in events[which].Muon) + \"\\n\")\n",
    "print(\"sorted:  \\n\" + \"\\n\".join(repr((muon.pt, muon.phi, muon.eta)) for muon in sortedevents[which].Muon))"
   ]
  },
  {
   "cell_type": "markdown",
   "metadata": {},
   "source": [
    "Same for the event with highest muon $p_T$."
   ]
  },
  {
   "cell_type": "code",
   "execution_count": 10,
   "metadata": {},
   "outputs": [
    {
     "name": "stdout",
     "output_type": "stream",
     "text": [
      "original:\n",
      "(27280.783, 1.9008816, -1.4215664)\n",
      "(20.993748, 2.0672431, -1.2065552)\n",
      "(6.5631175, -0.78409564, 0.39030939)\n",
      "(3.9093113, 0.42742085, 0.53176123)\n",
      "(3.6213717, 2.8320415, -1.7658416)\n",
      "(3.1027567, -0.29853693, -1.5238833)\n",
      "\n",
      "sorted:  \n",
      "(27280.783, 1.9008816, -1.4215664)\n",
      "(20.993748, 2.0672431, -1.2065552)\n",
      "(6.5631175, -0.78409564, 0.39030939)\n",
      "(3.9093113, 0.42742085, 0.53176123)\n",
      "(3.6213717, 2.8320415, -1.7658416)\n",
      "(3.1027567, -0.29853693, -1.5238833)\n"
     ]
    }
   ],
   "source": [
    "which = muonorder[0]\n",
    "print(\"original:\\n\" + \"\\n\".join(repr((muon.pt, muon.phi, muon.eta)) for muon in events[which].Muon) + \"\\n\")\n",
    "print(\"sorted:  \\n\" + \"\\n\".join(repr((muon.pt, muon.phi, muon.eta)) for muon in sortedevents[which].Muon))"
   ]
  },
  {
   "cell_type": "markdown",
   "metadata": {},
   "source": [
    "The first event, looing at jets now."
   ]
  },
  {
   "cell_type": "code",
   "execution_count": 11,
   "metadata": {},
   "outputs": [
    {
     "name": "stdout",
     "output_type": "stream",
     "text": [
      "original:\n",
      "(194.19714, 0.40622151, -2.6520884)\n",
      "(136.11476, -2.528533, -1.3676349)\n",
      "(85.622955, 2.8486614, -0.60089219)\n",
      "(60.950535, -0.94596076, -3.3134294)\n",
      "(18.965042, -0.07733579, -0.8700369)\n",
      "(18.361681, 2.1469259, 2.6447577)\n",
      "\n",
      "sorted:  \n",
      "(194.19714, 0.40622151, -2.6520884)\n",
      "(136.11476, -2.528533, -1.3676349)\n",
      "(85.622955, 2.8486614, -0.60089219)\n",
      "(60.950535, -0.94596076, -3.3134294)\n",
      "(18.965042, -0.07733579, -0.8700369)\n",
      "(18.361681, 2.1469259, 2.6447577)\n"
     ]
    }
   ],
   "source": [
    "which = 0\n",
    "print(\"original:\\n\" + \"\\n\".join(repr((jet.pt, jet.phi, jet.eta)) for jet in events[which].AK4CHS) + \"\\n\")\n",
    "print(\"sorted:  \\n\" + \"\\n\".join(repr((jet.pt, jet.phi, jet.eta)) for jet in sortedevents[which].AK4CHS))"
   ]
  },
  {
   "cell_type": "markdown",
   "metadata": {},
   "source": [
    "Same for the event with highest jet $p_T$."
   ]
  },
  {
   "cell_type": "code",
   "execution_count": 12,
   "metadata": {},
   "outputs": [
    {
     "name": "stdout",
     "output_type": "stream",
     "text": [
      "original:\n",
      "(1408.762, 1.6171466, -0.80842471)\n",
      "(1274.2667, -2.1024816, 0.31906798)\n",
      "(656.65344, -0.20202568, 0.47772574)\n",
      "(88.645607, -2.1789863, -0.38160208)\n",
      "(57.03783, -0.84209001, 0.20092875)\n",
      "(30.398226, -2.4329026, 1.2096163)\n",
      "(28.817825, -0.99910033, 1.0436321)\n",
      "\n",
      "sorted:  \n",
      "(1408.762, 1.6171466, -0.80842471)\n",
      "(1274.2667, -2.1024816, 0.31906798)\n",
      "(656.65344, -0.20202568, 0.47772574)\n",
      "(88.645607, -2.1789863, -0.38160208)\n",
      "(57.03783, -0.84209001, 0.20092875)\n",
      "(30.398226, -2.4329026, 1.2096163)\n",
      "(28.817825, -0.99910033, 1.0436321)\n"
     ]
    }
   ],
   "source": [
    "which = jetorder[0]\n",
    "print(\"original:\\n\" + \"\\n\".join(repr((jet.pt, jet.phi, jet.eta)) for jet in events[which].AK4CHS) + \"\\n\")\n",
    "print(\"sorted:  \\n\" + \"\\n\".join(repr((jet.pt, jet.phi, jet.eta)) for jet in sortedevents[which].AK4CHS))"
   ]
  },
  {
   "cell_type": "markdown",
   "metadata": {},
   "source": [
    "But now if we look at the physical arrangement of muon data, we see that the event with the highest $p_T$ muon is first."
   ]
  },
  {
   "cell_type": "code",
   "execution_count": 13,
   "metadata": {},
   "outputs": [
    {
     "data": {
      "text/plain": [
       "[27280.783203125,\n",
       " 20.99374771118164,\n",
       " 6.563117504119873,\n",
       " 3.909311294555664,\n",
       " 3.6213717460632324,\n",
       " 3.1027567386627197,\n",
       " 20537.115234375,\n",
       " 3.7412970066070557,\n",
       " 11355.5908203125,\n",
       " 48.06831741333008]"
      ]
     },
     "execution_count": 13,
     "metadata": {},
     "output_type": "execute_result"
    }
   ],
   "source": [
    "sortedarrays[\"sortedevents-Ld-R_Muon-Ld-R_pt\"][:10].tolist()"
   ]
  },
  {
   "cell_type": "markdown",
   "metadata": {},
   "source": [
    "Same for jets, which implies a different sort order."
   ]
  },
  {
   "cell_type": "code",
   "execution_count": 14,
   "metadata": {},
   "outputs": [
    {
     "data": {
      "text/plain": [
       "[1408.761962890625,\n",
       " 1274.2667236328125,\n",
       " 656.6534423828125,\n",
       " 88.6456069946289,\n",
       " 57.0378303527832,\n",
       " 30.398225784301758,\n",
       " 28.817825317382812,\n",
       " 1184.8544921875,\n",
       " 927.7994995117188,\n",
       " 131.87158203125]"
      ]
     },
     "execution_count": 14,
     "metadata": {},
     "output_type": "execute_result"
    }
   ],
   "source": [
    "sortedarrays[\"sortedevents-Ld-R_AK4CHS-Ld-R_pt\"][:10].tolist()"
   ]
  },
  {
   "cell_type": "markdown",
   "metadata": {},
   "source": [
    "Finally, if we look at the first four events in the `sortedevents` dataset, we see that the first indexes are no longer small or sequential across events.\n",
    "\n",
    "They are, however, sequential _within_ each event."
   ]
  },
  {
   "cell_type": "code",
   "execution_count": 15,
   "metadata": {},
   "outputs": [
    {
     "name": "stdout",
     "output_type": "stream",
     "text": [
      "event: <sortedevents at 0x0>\n",
      "    muons: <Muon at 0x44bf>\n",
      "    jets: <AK4CHS at 0xadd2> <AK4CHS at 0xadd3> <AK4CHS at 0xadd4> <AK4CHS at 0xadd5> <AK4CHS at 0xadd6> <AK4CHS at 0xadd7>\n",
      "\n",
      "event: <sortedevents at 0x1>\n",
      "    muons: \n",
      "    jets: <AK4CHS at 0x32e4f> <AK4CHS at 0x32e50> <AK4CHS at 0x32e51> <AK4CHS at 0x32e52> <AK4CHS at 0x32e53> <AK4CHS at 0x32e54> <AK4CHS at 0x32e55>\n",
      "\n",
      "event: <sortedevents at 0x2>\n",
      "    muons: <Muon at 0x9f76> <Muon at 0x9f77> <Muon at 0x9f78>\n",
      "    jets: <AK4CHS at 0x310d1> <AK4CHS at 0x310d2> <AK4CHS at 0x310d3> <AK4CHS at 0x310d4> <AK4CHS at 0x310d5> <AK4CHS at 0x310d6> <AK4CHS at 0x310d7> <AK4CHS at 0x310d8> <AK4CHS at 0x310d9> <AK4CHS at 0x310da>\n",
      "\n",
      "event: <sortedevents at 0x3>\n",
      "    muons: <Muon at 0x25d9> <Muon at 0x25da> <Muon at 0x25db>\n",
      "    jets: <AK4CHS at 0x10758> <AK4CHS at 0x10759> <AK4CHS at 0x1075a> <AK4CHS at 0x1075b> <AK4CHS at 0x1075c> <AK4CHS at 0x1075d> <AK4CHS at 0x1075e>\n",
      "\n"
     ]
    }
   ],
   "source": [
    "for event in sortedevents[:4]:\n",
    "    print(\"event: \" + repr(event))\n",
    "    print(\"    muons: \" + \" \".join(repr(muon) for muon in event.Muon))\n",
    "    print(\"    jets: \" + \" \".join(repr(jet) for jet in event.AK4CHS))\n",
    "    print(\"\")"
   ]
  }
 ],
 "metadata": {
  "kernelspec": {
   "display_name": "Python 2",
   "language": "python",
   "name": "python2"
  },
  "language_info": {
   "codemirror_mode": {
    "name": "ipython",
    "version": 2
   },
   "file_extension": ".py",
   "mimetype": "text/x-python",
   "name": "python",
   "nbconvert_exporter": "python",
   "pygments_lexer": "ipython2",
   "version": "2.7.6"
  }
 },
 "nbformat": 4,
 "nbformat_minor": 1
}
