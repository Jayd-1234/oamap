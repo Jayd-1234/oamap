{
 "cells": [
  {
   "cell_type": "code",
   "execution_count": 1,
   "metadata": {
    "collapsed": true
   },
   "outputs": [],
   "source": [
    "from math import *\n",
    "\n",
    "import numpy\n",
    "\n",
    "from plur.types import *\n",
    "from plur.python.data import *"
   ]
  },
  {
   "cell_type": "code",
   "execution_count": 2,
   "metadata": {},
   "outputs": [
    {
     "data": {
      "text/plain": [
       "['events-Lo',\n",
       " 'events-Ld-R_Muon-Lo',\n",
       " 'events-Ld-R_Muon-Ld-R_pt',\n",
       " 'events-Ld-R_Muon-Ld-R_phi',\n",
       " 'events-Ld-R_Muon-Ld-R_eta',\n",
       " 'events-Ld-R_AK4CHS-Lo',\n",
       " 'events-Ld-R_AK4CHS-Ld-R_pt',\n",
       " 'events-Ld-R_AK4CHS-Ld-R_phi',\n",
       " 'events-Ld-R_AK4CHS-Ld-R_eta']"
      ]
     },
     "execution_count": 2,
     "metadata": {},
     "output_type": "execute_result"
    }
   ],
   "source": [
    "# pick a sample; naturally, this link to my home directory won't work for you\n",
    "directory = \"/home/pivarski/storage/data/TTJets_allevents/0/\"\n",
    "\n",
    "# \"AK4CHS\" are jets, \"Muon\" are muons\n",
    "arrays = {n: numpy.load(directory + n + \".npy\") for n in (\"events-Lo\", \"events-Ld-R_Muon-Lo\", \"events-Ld-R_Muon-Ld-R_pt\", \"events-Ld-R_Muon-Ld-R_eta\", \"events-Ld-R_Muon-Ld-R_phi\", \"events-Ld-R_AK4CHS-Lo\", \"events-Ld-R_AK4CHS-Ld-R_pt\", \"events-Ld-R_AK4CHS-Ld-R_eta\", \"events-Ld-R_AK4CHS-Ld-R_phi\")}\n",
    "\n",
    "# look at the names of what we picked\n",
    "sorted(arrays.keys(), reverse=True)"
   ]
  },
  {
   "cell_type": "code",
   "execution_count": 3,
   "metadata": {},
   "outputs": [
    {
     "name": "stdout",
     "output_type": "stream",
     "text": [
      "event: <events at 0x0>\n",
      "    muons: <Muon at 0x0>\n",
      "    jets: <AK4CHS at 0x0> <AK4CHS at 0x1> <AK4CHS at 0x2> <AK4CHS at 0x3> <AK4CHS at 0x4> <AK4CHS at 0x5>\n",
      "\n",
      "event: <events at 0x1>\n",
      "    muons: \n",
      "    jets: <AK4CHS at 0x6> <AK4CHS at 0x7> <AK4CHS at 0x8> <AK4CHS at 0x9> <AK4CHS at 0xa> <AK4CHS at 0xb> <AK4CHS at 0xc>\n",
      "\n",
      "event: <events at 0x2>\n",
      "    muons: <Muon at 0x1> <Muon at 0x2> <Muon at 0x3>\n",
      "    jets: <AK4CHS at 0xd> <AK4CHS at 0xe> <AK4CHS at 0xf> <AK4CHS at 0x10> <AK4CHS at 0x11> <AK4CHS at 0x12> <AK4CHS at 0x13> <AK4CHS at 0x14> <AK4CHS at 0x15> <AK4CHS at 0x16>\n",
      "\n",
      "event: <events at 0x3>\n",
      "    muons: <Muon at 0x4> <Muon at 0x5> <Muon at 0x6>\n",
      "    jets: <AK4CHS at 0x17> <AK4CHS at 0x18> <AK4CHS at 0x19> <AK4CHS at 0x1a> <AK4CHS at 0x1b> <AK4CHS at 0x1c> <AK4CHS at 0x1d>\n",
      "\n"
     ]
    }
   ],
   "source": [
    "events = fromarrays(\"events\", arrays)\n",
    "for event in events[:4]:\n",
    "    print(\"event: \" + repr(event))\n",
    "    print(\"    muons: \" + \" \".join(repr(muon) for muon in event.Muon))\n",
    "    print(\"    jets: \" + \" \".join(repr(jet) for jet in event.AK4CHS))\n",
    "    print(\"\")"
   ]
  },
  {
   "cell_type": "code",
   "execution_count": 29,
   "metadata": {
    "collapsed": true
   },
   "outputs": [],
   "source": [
    "nummuons = numpy.empty(len(events), dtype=numpy.int64)\n",
    "numjets = numpy.empty(len(events), dtype=numpy.int64)\n",
    "\n",
    "muonpt1 = numpy.zeros(len(events), dtype=numpy.float32)\n",
    "jetpt1 = numpy.zeros(len(events), dtype=numpy.float32)\n",
    "\n",
    "for eventi, event in enumerate(events):\n",
    "    nummuons[eventi] = len(event.Muon)\n",
    "    for muon in event.Muon:\n",
    "        if muon.pt > muonpt1[eventi]:\n",
    "            muonpt1[eventi] = muon.pt     # assume muons are unsorted (I don't know for sure)\n",
    "\n",
    "    numjets[eventi] = len(event.AK4CHS)\n",
    "    for jet in event.AK4CHS:\n",
    "        if jet.pt > jetpt1[eventi]:\n",
    "            jetpt1[eventi] = jet.pt       # assume jets are unsorted (I don't know for sure)"
   ]
  },
  {
   "cell_type": "code",
   "execution_count": 18,
   "metadata": {},
   "outputs": [
    {
     "name": "stdout",
     "output_type": "stream",
     "text": [
      "[ 3582  9878 25486 37848 15068  9285 18487  8826 22319  9612]\n",
      "[12665 19515 10279 21718 34930 33891 20522 39713 28183  5027]\n"
     ]
    }
   ],
   "source": [
    "muonorder = muonpt1.argsort()[::-1]   # prefer max to min ordering\n",
    "jetorder = jetpt1.argsort()[::-1]\n",
    "\n",
    "print(muonorder[:10])\n",
    "print(jetorder[:10])"
   ]
  },
  {
   "cell_type": "code",
   "execution_count": 19,
   "metadata": {},
   "outputs": [
    {
     "name": "stdout",
     "output_type": "stream",
     "text": [
      "[27280.783, 20.993748, 6.5631175, 3.9093113, 3.6213717, 3.1027567]\n",
      "[1408.762, 1274.2667, 656.65344, 88.645607, 57.03783, 30.398226, 28.817825]\n"
     ]
    }
   ],
   "source": [
    "print([muon.pt for muon in events[muonorder[0]].Muon])\n",
    "print([jet.pt for jet in events[jetorder[0]].AK4CHS])"
   ]
  },
  {
   "cell_type": "code",
   "execution_count": 77,
   "metadata": {},
   "outputs": [],
   "source": [
    "muonorder_expanded = numpy.empty(len(arrays[\"events-Ld-R_Muon-Ld-R_pt\"]), dtype=muonorder.dtype)\n",
    "muonbegin = numpy.empty(len(events), dtype=numpy.int64)\n",
    "muonend = numpy.empty(len(events), dtype=numpy.int64)\n",
    "\n",
    "index = 0\n",
    "for sortedi in muonorder:\n",
    "    muonbegin[sortedi] = index\n",
    "    for j in range(len(events[sortedi].Muon)):\n",
    "        muonorder_expanded[index] = arrays[\"events-Ld-R_Muon-Lo\"][sortedi] + j\n",
    "        index += 1\n",
    "    muonend[sortedi] = index"
   ]
  },
  {
   "cell_type": "code",
   "execution_count": null,
   "metadata": {
    "collapsed": true
   },
   "outputs": [],
   "source": [
    "sortedarrays = {\n",
    "    \"sortedevents-Lo\":                arrays[\"events-Lo\"],\n",
    "    \"sortedevents-Ld-R_Muon-Lb\":      muonbegin,\n",
    "    \"sortedevents-Ld-R_Muon-Le\":      muonend,\n",
    "    \"sortedevents-Ld-R_Muon-Ld-R_pt\": arrays[\"events-Ld-R_Muon-Ld-R_pt\"][muonorder_expanded]}\n",
    "\n",
    "sortedevents = fromarrays(\"sortedevents\", sortedarrays)"
   ]
  },
  {
   "cell_type": "code",
   "execution_count": 85,
   "metadata": {},
   "outputs": [
    {
     "name": "stdout",
     "output_type": "stream",
     "text": [
      "[28.070749]\n",
      "[28.070749]\n"
     ]
    }
   ],
   "source": [
    "print([muon.pt for muon in events[0].Muon])\n",
    "print([muon.pt for muon in sortedevents[0].Muon])"
   ]
  },
  {
   "cell_type": "code",
   "execution_count": 86,
   "metadata": {},
   "outputs": [
    {
     "name": "stdout",
     "output_type": "stream",
     "text": [
      "[27280.783, 20.993748, 6.5631175, 3.9093113, 3.6213717, 3.1027567]\n",
      "[27280.783, 20.993748, 6.5631175, 3.9093113, 3.6213717, 3.1027567]\n"
     ]
    }
   ],
   "source": [
    "print([muon.pt for muon in events[muonorder[0]].Muon])\n",
    "print([muon.pt for muon in sortedevents[muonorder[0]].Muon])"
   ]
  },
  {
   "cell_type": "code",
   "execution_count": null,
   "metadata": {
    "collapsed": true
   },
   "outputs": [],
   "source": []
  },
  {
   "cell_type": "code",
   "execution_count": null,
   "metadata": {
    "collapsed": true
   },
   "outputs": [],
   "source": []
  },
  {
   "cell_type": "code",
   "execution_count": null,
   "metadata": {
    "collapsed": true
   },
   "outputs": [],
   "source": []
  }
 ],
 "metadata": {
  "kernelspec": {
   "display_name": "Python 2",
   "language": "python",
   "name": "python2"
  },
  "language_info": {
   "codemirror_mode": {
    "name": "ipython",
    "version": 2
   },
   "file_extension": ".py",
   "mimetype": "text/x-python",
   "name": "python",
   "nbconvert_exporter": "python",
   "pygments_lexer": "ipython2",
   "version": "2.7.6"
  }
 },
 "nbformat": 4,
 "nbformat_minor": 1
}
