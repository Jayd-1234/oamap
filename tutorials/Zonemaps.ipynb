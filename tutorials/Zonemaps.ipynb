{
 "cells": [
  {
   "cell_type": "markdown",
   "metadata": {},
   "source": [
    "# Using PLUR to implement zonemaps\n",
    "\n",
    "The point of this notebook is to show how zonemaps can be implemented _using_ PLUR data structures, which would make it easier to use the resulting selection _in_ PLUR.\n",
    "\n",
    "It also illustrates how PLUR data can be logically restructured without physically moving or changing the underlying data. In particular, partitioning a dataset is essentially free (an $O(n)$ operation where $n$ is the number of partitions and $N$ is the number of entries, with $n \\ll N$)."
   ]
  },
  {
   "cell_type": "code",
   "execution_count": 1,
   "metadata": {
    "collapsed": true
   },
   "outputs": [],
   "source": [
    "from math import *\n",
    "\n",
    "import numpy\n",
    "\n",
    "from plur.types import *\n",
    "from plur.python.data import *"
   ]
  },
  {
   "cell_type": "markdown",
   "metadata": {},
   "source": [
    "## Getting the dataset\n",
    "\n",
    "Get some arrays representing a few columns from a dataset. These can be made with the `avro2plur` script."
   ]
  },
  {
   "cell_type": "code",
   "execution_count": 2,
   "metadata": {},
   "outputs": [
    {
     "data": {
      "text/plain": [
       "['events-Lo',\n",
       " 'events-Ld-R_Muon-Lo',\n",
       " 'events-Ld-R_Muon-Ld-R_pt',\n",
       " 'events-Ld-R_Muon-Ld-R_phi',\n",
       " 'events-Ld-R_Muon-Ld-R_eta',\n",
       " 'events-Ld-R_AK4CHS-Lo',\n",
       " 'events-Ld-R_AK4CHS-Ld-R_pt',\n",
       " 'events-Ld-R_AK4CHS-Ld-R_phi',\n",
       " 'events-Ld-R_AK4CHS-Ld-R_eta']"
      ]
     },
     "execution_count": 2,
     "metadata": {},
     "output_type": "execute_result"
    }
   ],
   "source": [
    "# pick a sample; naturally, this link to my home directory won't work for you\n",
    "directory = \"/home/pivarski/storage/data/TTJets_allevents/0/\"\n",
    "\n",
    "# \"AK4CHS\" are jets, \"Muon\" are muons\n",
    "arrays = {n: numpy.load(directory + n + \".npy\") for n in (\"events-Lo\", \"events-Ld-R_Muon-Lo\", \"events-Ld-R_Muon-Ld-R_pt\", \"events-Ld-R_Muon-Ld-R_eta\", \"events-Ld-R_Muon-Ld-R_phi\", \"events-Ld-R_AK4CHS-Lo\", \"events-Ld-R_AK4CHS-Ld-R_pt\", \"events-Ld-R_AK4CHS-Ld-R_eta\", \"events-Ld-R_AK4CHS-Ld-R_phi\")}\n",
    "\n",
    "# look at the names of what we picked\n",
    "sorted(arrays.keys(), reverse=True)"
   ]
  },
  {
   "cell_type": "markdown",
   "metadata": {},
   "source": [
    "Turn the arrays into a data structure called \"events\" whose schema is inferred from the names of the arrays.\n",
    "\n",
    "In this notebook, we're going to use the (slow) pure Python methods to work with the data. These are lazy-evaluated proxies that behave the same way as the compiled code, but at this early stage, they're more likely to work (or at least debug). The compiled interface should work the same but is orders of magnitude faster."
   ]
  },
  {
   "cell_type": "code",
   "execution_count": 3,
   "metadata": {},
   "outputs": [
    {
     "data": {
      "text/plain": [
       "[<events at 0x0>, <events at 0x1>, <events at 0x2>, <events at 0x3>, ...]"
      ]
     },
     "execution_count": 3,
     "metadata": {},
     "output_type": "execute_result"
    }
   ],
   "source": [
    "events = fromarrays(\"events\", arrays)\n",
    "events"
   ]
  },
  {
   "cell_type": "markdown",
   "metadata": {},
   "source": [
    "Printing out the `events.type` requires PLUR 0.0.4."
   ]
  },
  {
   "cell_type": "code",
   "execution_count": 4,
   "metadata": {},
   "outputs": [
    {
     "name": "stdout",
     "output_type": "stream",
     "text": [
      "List(\n",
      "  Record(\n",
      "    AK4CHS = List(\n",
      "      Record(\n",
      "        eta = float32,\n",
      "        phi = float32,\n",
      "        pt = float32\n",
      "        )\n",
      "      ),\n",
      "    Muon = List(\n",
      "      Record(\n",
      "        eta = float32,\n",
      "        phi = float32,\n",
      "        pt = float32\n",
      "        )\n",
      "      )\n",
      "    )\n",
      "  )\n"
     ]
    }
   ],
   "source": [
    "print(formattype(events.type))"
   ]
  },
  {
   "cell_type": "markdown",
   "metadata": {},
   "source": [
    "## Example user function\n",
    "\n",
    "Define a user analysis function. This is a fairly typical example, which selects events if they have one good muon and two good jets with minimum $p_T$ cuts to define what \"good\" means. In this example, we return an event list to use as a skim for more work later."
   ]
  },
  {
   "cell_type": "code",
   "execution_count": 5,
   "metadata": {},
   "outputs": [
    {
     "data": {
      "text/plain": [
       "[411,\n",
       " 999,\n",
       " 2360,\n",
       " 4196,\n",
       " 4348,\n",
       " 5027,\n",
       " 6334,\n",
       " 9614,\n",
       " 9943,\n",
       " 10279,\n",
       " 11124,\n",
       " 14536,\n",
       " 15172,\n",
       " 17484,\n",
       " 19247,\n",
       " 24346,\n",
       " 26348,\n",
       " 27265,\n",
       " 28183,\n",
       " 28374,\n",
       " 28390,\n",
       " 29428,\n",
       " 30516,\n",
       " 30582,\n",
       " 32876,\n",
       " 33891,\n",
       " 38366,\n",
       " 39713]"
      ]
     },
     "execution_count": 5,
     "metadata": {},
     "output_type": "execute_result"
    }
   ],
   "source": [
    "def original(events):\n",
    "    for eventindex, event in enumerate(events):\n",
    "        goodmuon = False\n",
    "        for muon in event.Muon:\n",
    "            if muon.pt > 150:           # want at least one muon.pt > 150\n",
    "                goodmuon = True\n",
    "                break\n",
    "        numgoodjets = 0\n",
    "        for jet in event.AK4CHS:\n",
    "            if jet.pt > 300:            # want at least two jet.pt > 300\n",
    "                numgoodjets += 1\n",
    "                if numgoodjets >= 2:\n",
    "                    break\n",
    "        if goodmuon and numgoodjets >= 2:\n",
    "            yield eventindex\n",
    "\n",
    "selected = list(original(events))\n",
    "selected"
   ]
  },
  {
   "cell_type": "markdown",
   "metadata": {},
   "source": [
    "Check the first selected event; it should have at least one (probably only one) high-$p_T$ muon and at least two (probably more) high-$p_T$ jets."
   ]
  },
  {
   "cell_type": "code",
   "execution_count": 6,
   "metadata": {
    "scrolled": false
   },
   "outputs": [
    {
     "name": "stdout",
     "output_type": "stream",
     "text": [
      "[280.3884]\n",
      "[386.17084, 324.08521, 291.20868, 136.7355, 67.818985, 59.253769, 53.791145, 50.497181, 26.028744, 16.0399]\n"
     ]
    }
   ],
   "source": [
    "print([muon.pt for muon in events[selected[0]].Muon])\n",
    "print([jet.pt for jet in events[selected[0]].AK4CHS])"
   ]
  },
  {
   "cell_type": "markdown",
   "metadata": {},
   "source": [
    "This happens to be a highly selective cut, probably fewer than 0.1% of events pass."
   ]
  },
  {
   "cell_type": "code",
   "execution_count": 7,
   "metadata": {},
   "outputs": [
    {
     "data": {
      "text/plain": [
       "0.0701209586536776"
      ]
     },
     "execution_count": 7,
     "metadata": {},
     "output_type": "execute_result"
    }
   ],
   "source": [
    "100.0*len(selected)/len(events)"
   ]
  },
  {
   "cell_type": "markdown",
   "metadata": {},
   "source": [
    "## Making the zonemap\n",
    "\n",
    "The main way this differs from a zonemap over a rectangular table is that we can't be precise about the number of zonemaps per page of data. In this example, we give each zonemap 100 events. In my sample, this is an _average_ of 117.2 muons and 775.2 jets (see below). All floating point values in this sample are 4 bytes, so a zonemap is about a tenth of a muon page and more than half a jet page (assuming 4 kB disk or CPU cache pages). It's sloppy."
   ]
  },
  {
   "cell_type": "code",
   "execution_count": 8,
   "metadata": {},
   "outputs": [
    {
     "name": "stdout",
     "output_type": "stream",
     "text": [
      "1.17244747189\n",
      "7.75207232476\n"
     ]
    }
   ],
   "source": [
    "print(numpy.mean([len(x.Muon) for x in events]))\n",
    "print(numpy.mean([len(x.AK4CHS) for x in events]))"
   ]
  },
  {
   "cell_type": "markdown",
   "metadata": {},
   "source": [
    "Instead of a fixed number of _events_ per zonemap, we could have grown each zone until it just barely exceeds a minimum number of _particles_. But then, which particle: muons or jets? Maybe jets because they're more abundant, so it's more critical that they (almost) line up with the page boundary? This method would be sloppy, too, but maybe less so, and that might lead to better average performance.\n",
    "\n",
    "I don't think there's any way to cut zones exactly at the particle page boundaries (which are more relevant than event page boundaries because particles have more data), because zones must end at event boundaries and events have arbitrary numbers of particles.\n",
    "\n",
    "The zones have to be made in a nested for loop, rather than Numpy commands, because we need to calculate such things as a maximum second-highest jet $p_T$ per event. The need for nested loops would be even more acute if we vary the number of events per zone to try to more tightly control the number of jets per zone, as described above.\n",
    "\n",
    "Don't worry about this being slow: this is exactly the sort of loop that can be accelerated by PLUR code transformation."
   ]
  },
  {
   "cell_type": "code",
   "execution_count": 9,
   "metadata": {
    "collapsed": true
   },
   "outputs": [],
   "source": [
    "ZONE_SIZE = 100    # 100 events per zone\n",
    "NUM_ZONES = int(ceil(1.0 * len(events) / ZONE_SIZE))\n",
    "\n",
    "# they don't align with page boundaries, but it's impossible to get them to\n",
    "eventstarts = numpy.empty(NUM_ZONES + 1, dtype=numpy.int64)\n",
    "eventstarts[:-1] = range(0, len(events), 100)\n",
    "eventstarts[-1] = len(events)\n",
    "\n",
    "# three quantities to index per zone\n",
    "muonpt1max = numpy.ones(NUM_ZONES, dtype=numpy.float32) * -numpy.inf\n",
    "jetpt1max = numpy.ones(NUM_ZONES, dtype=numpy.float32) * -numpy.inf\n",
    "jetpt2max = numpy.ones(NUM_ZONES, dtype=numpy.float32) * -numpy.inf\n",
    "\n",
    "for eventindex, event in enumerate(events):\n",
    "    muonpt1 = 0.0\n",
    "    for muon in event.Muon:\n",
    "        if muon.pt > muonpt1:\n",
    "            muonpt1 = muon.pt     # assume muons are unsorted (I don't know for sure)\n",
    "\n",
    "    jetpt1 = 0.0\n",
    "    jetpt2 = 0.0\n",
    "    for jet in event.AK4CHS:\n",
    "        if jet.pt > jetpt1:\n",
    "            jetpt2 = jetpt1\n",
    "            jetpt1 = jet.pt\n",
    "        elif jet.pt > jetpt2:\n",
    "            jetpt2 = jet.pt\n",
    "\n",
    "    # fill zone arrays\n",
    "    zoneindex = eventindex // 100\n",
    "    if muonpt1 > muonpt1max[zoneindex]:\n",
    "        muonpt1max[zoneindex] = muonpt1\n",
    "    if jetpt1 > jetpt1max[zoneindex]:\n",
    "        jetpt1max[zoneindex] = jetpt1\n",
    "    if jetpt2 > jetpt2max[zoneindex]:\n",
    "        jetpt2max[zoneindex] = jetpt2"
   ]
  },
  {
   "cell_type": "markdown",
   "metadata": {},
   "source": [
    "Take a look at each of the index arrays. I only made maxima, rather than the usual min/max, because for $p_T$, we're never interested in the minimum.\n",
    "\n",
    "In fact, it's rare for a physics cut to be both highly selective and also two-sided. The only examples I can think of are mass cuts around particle masses, but most of those cases are derived quantities defined by the user."
   ]
  },
  {
   "cell_type": "code",
   "execution_count": 10,
   "metadata": {},
   "outputs": [
    {
     "data": {
      "text/plain": [
       "array([  140.13899231,   122.19343567,   270.32687378,   142.27436829,\n",
       "         280.38839722,   255.15280151,   221.03739929,    81.21549988,\n",
       "        1994.28369141,   179.93135071], dtype=float32)"
      ]
     },
     "execution_count": 10,
     "metadata": {},
     "output_type": "execute_result"
    }
   ],
   "source": [
    "muonpt1max[:10]"
   ]
  },
  {
   "cell_type": "code",
   "execution_count": 11,
   "metadata": {},
   "outputs": [
    {
     "data": {
      "text/plain": [
       "array([ 481.82681274,  271.77041626,  645.95025635,  346.60095215,\n",
       "        446.91091919,  509.58755493,  431.06497192,  655.68341064,\n",
       "        453.18643188,  486.47906494], dtype=float32)"
      ]
     },
     "execution_count": 11,
     "metadata": {},
     "output_type": "execute_result"
    }
   ],
   "source": [
    "jetpt1max[:10]"
   ]
  },
  {
   "cell_type": "code",
   "execution_count": 12,
   "metadata": {},
   "outputs": [
    {
     "data": {
      "text/plain": [
       "array([ 244.5422821 ,  225.98408508,  340.81079102,  252.35488892,\n",
       "        324.08520508,  258.53240967,  218.1619873 ,  313.1786499 ,\n",
       "        308.15164185,  426.58319092], dtype=float32)"
      ]
     },
     "execution_count": 12,
     "metadata": {},
     "output_type": "execute_result"
    }
   ],
   "source": [
    "jetpt2max[:10]"
   ]
  },
  {
   "cell_type": "markdown",
   "metadata": {},
   "source": [
    "## Restructuring the data into zones\n",
    "\n",
    "The next step is where PLUR really helps. We want to create a new, indexed dataset out of our old, unindexed dataset. The new dataset must partition the original events— changing the data structure— but we can do it without modifying the original arrays.\n",
    "\n",
    "First, we gather the new arrays into a new dictionary, then put most of the old ones in this dictionary with modified names."
   ]
  },
  {
   "cell_type": "code",
   "execution_count": 13,
   "metadata": {
    "collapsed": true
   },
   "outputs": [],
   "source": [
    "# create a new set of arrays\n",
    "indexedarrays = {\n",
    "  \"zones-Lo\":  numpy.array([0, NUM_ZONES], dtype=numpy.int64),\n",
    "  \"zones-Ld-R_muonpt1max\": muonpt1max,\n",
    "  \"zones-Ld-R_jetpt1max\":  jetpt1max,\n",
    "  \"zones-Ld-R_jetpt2max\":  jetpt2max,\n",
    "  \"zones-Ld-R_events-Lo\":  eventstarts}\n",
    "\n",
    "# importing the original arrays without modification, apart from their names\n",
    "for name, array in arrays.items():\n",
    "    if name.startswith(\"events-Ld-\"):\n",
    "        indexedarrays[name.replace(\"events-Ld-\", \"zones-Ld-R_events-Ld-\")] = array"
   ]
  },
  {
   "cell_type": "code",
   "execution_count": 14,
   "metadata": {},
   "outputs": [
    {
     "data": {
      "text/plain": [
       "[<zones at 0x0>, <zones at 0x1>, <zones at 0x2>, <zones at 0x3>, ...]"
      ]
     },
     "execution_count": 14,
     "metadata": {},
     "output_type": "execute_result"
    }
   ],
   "source": [
    "# new dataset\n",
    "zones = fromarrays(\"zones\", indexedarrays)\n",
    "zones"
   ]
  },
  {
   "cell_type": "code",
   "execution_count": 15,
   "metadata": {},
   "outputs": [
    {
     "data": {
      "text/plain": [
       "400"
      ]
     },
     "execution_count": 15,
     "metadata": {},
     "output_type": "execute_result"
    }
   ],
   "source": [
    "# this is now a dataset of zones\n",
    "len(zones)"
   ]
  },
  {
   "cell_type": "markdown",
   "metadata": {},
   "source": [
    "The list of events is nested within the list of zones."
   ]
  },
  {
   "cell_type": "code",
   "execution_count": 16,
   "metadata": {},
   "outputs": [
    {
     "name": "stdout",
     "output_type": "stream",
     "text": [
      "List(\n",
      "  Record(\n",
      "    events = List(\n",
      "      Record(\n",
      "        AK4CHS = List(\n",
      "          Record(\n",
      "            eta = float32,\n",
      "            phi = float32,\n",
      "            pt = float32\n",
      "            )\n",
      "          ),\n",
      "        Muon = List(\n",
      "          Record(\n",
      "            eta = float32,\n",
      "            phi = float32,\n",
      "            pt = float32\n",
      "            )\n",
      "          )\n",
      "        )\n",
      "      ),\n",
      "    jetpt1max = float32,\n",
      "    jetpt2max = float32,\n",
      "    muonpt1max = float32\n",
      "    )\n",
      "  )\n"
     ]
    }
   ],
   "source": [
    "print(formattype(zones.type))"
   ]
  },
  {
   "cell_type": "code",
   "execution_count": 17,
   "metadata": {},
   "outputs": [
    {
     "data": {
      "text/plain": [
       "(140.13899,\n",
       " 481.82681,\n",
       " 244.54228,\n",
       " [<events at 0x0>, <events at 0x1>, <events at 0x2>, <events at 0x3>, ...])"
      ]
     },
     "execution_count": 17,
     "metadata": {},
     "output_type": "execute_result"
    }
   ],
   "source": [
    "zones[0].muonpt1max, zones[0].jetpt1max, zones[0].jetpt2max, zones[0].events"
   ]
  },
  {
   "cell_type": "markdown",
   "metadata": {},
   "source": [
    "And exactly 100 events are in each zone (except the last)."
   ]
  },
  {
   "cell_type": "code",
   "execution_count": 18,
   "metadata": {},
   "outputs": [
    {
     "name": "stdout",
     "output_type": "stream",
     "text": [
      "[100, 100, 100, 100, 100, 100, 100, 100, 100, 100, 100, 100, 100, 100, 100, 100, 100, 100, 100, 100, 100, 100, 100, 100, 100, 100, 100, 100, 100, 100, 100, 100, 100, 100, 100, 100, 100, 100, 100, 100, 100, 100, 100, 100, 100, 100, 100, 100, 100, 100, 100, 100, 100, 100, 100, 100, 100, 100, 100, 100, 100, 100, 100, 100, 100, 100, 100, 100, 100, 100, 100, 100, 100, 100, 100, 100, 100, 100, 100, 100, 100, 100, 100, 100, 100, 100, 100, 100, 100, 100, 100, 100, 100, 100, 100, 100, 100, 100, 100, 100, 100, 100, 100, 100, 100, 100, 100, 100, 100, 100, 100, 100, 100, 100, 100, 100, 100, 100, 100, 100, 100, 100, 100, 100, 100, 100, 100, 100, 100, 100, 100, 100, 100, 100, 100, 100, 100, 100, 100, 100, 100, 100, 100, 100, 100, 100, 100, 100, 100, 100, 100, 100, 100, 100, 100, 100, 100, 100, 100, 100, 100, 100, 100, 100, 100, 100, 100, 100, 100, 100, 100, 100, 100, 100, 100, 100, 100, 100, 100, 100, 100, 100, 100, 100, 100, 100, 100, 100, 100, 100, 100, 100, 100, 100, 100, 100, 100, 100, 100, 100, 100, 100, 100, 100, 100, 100, 100, 100, 100, 100, 100, 100, 100, 100, 100, 100, 100, 100, 100, 100, 100, 100, 100, 100, 100, 100, 100, 100, 100, 100, 100, 100, 100, 100, 100, 100, 100, 100, 100, 100, 100, 100, 100, 100, 100, 100, 100, 100, 100, 100, 100, 100, 100, 100, 100, 100, 100, 100, 100, 100, 100, 100, 100, 100, 100, 100, 100, 100, 100, 100, 100, 100, 100, 100, 100, 100, 100, 100, 100, 100, 100, 100, 100, 100, 100, 100, 100, 100, 100, 100, 100, 100, 100, 100, 100, 100, 100, 100, 100, 100, 100, 100, 100, 100, 100, 100, 100, 100, 100, 100, 100, 100, 100, 100, 100, 100, 100, 100, 100, 100, 100, 100, 100, 100, 100, 100, 100, 100, 100, 100, 100, 100, 100, 100, 100, 100, 100, 100, 100, 100, 100, 100, 100, 100, 100, 100, 100, 100, 100, 100, 100, 100, 100, 100, 100, 100, 100, 100, 100, 100, 100, 100, 100, 100, 100, 100, 100, 100, 100, 100, 100, 100, 100, 100, 100, 100, 100, 100, 100, 100, 100, 100, 100, 100, 100, 100, 100, 100, 100, 100, 100, 100, 100, 100, 100, 100, 100, 100, 100, 31]\n"
     ]
    }
   ],
   "source": [
    "print([len(zone.events) for zone in zones])"
   ]
  },
  {
   "cell_type": "markdown",
   "metadata": {},
   "source": [
    "## Using the zonemap\n",
    "\n",
    "Now we modify the user's analysis function by putting it in a loop over zones. We only descend into the sub-loop over events if there are any matching particles.\n",
    "\n",
    "The cut on `zone.jetpt2max` implies the cut on `zone.jetpt1max`, but if a tighter cut on `zone.jetpt1max` is desired, it can be explicit."
   ]
  },
  {
   "cell_type": "code",
   "execution_count": 19,
   "metadata": {},
   "outputs": [
    {
     "data": {
      "text/plain": [
       "[411,\n",
       " 999,\n",
       " 2360,\n",
       " 4196,\n",
       " 4348,\n",
       " 5027,\n",
       " 6334,\n",
       " 9614,\n",
       " 9943,\n",
       " 10279,\n",
       " 11124,\n",
       " 14536,\n",
       " 15172,\n",
       " 17484,\n",
       " 19247,\n",
       " 24346,\n",
       " 26348,\n",
       " 27265,\n",
       " 28183,\n",
       " 28374,\n",
       " 28390,\n",
       " 29428,\n",
       " 30516,\n",
       " 30582,\n",
       " 32876,\n",
       " 33891,\n",
       " 38366,\n",
       " 39713]"
      ]
     },
     "execution_count": 19,
     "metadata": {},
     "output_type": "execute_result"
    }
   ],
   "source": [
    "def modified(zones):\n",
    "    for zonei, zone in enumerate(zones):\n",
    "        if zone.muonpt1max > 150 and zone.jetpt2max > 300:\n",
    "            for x in original(zone.events):\n",
    "                yield zonei*ZONE_SIZE + x\n",
    "\n",
    "selected2 = list(modified(zones))\n",
    "selected2"
   ]
  },
  {
   "cell_type": "markdown",
   "metadata": {},
   "source": [
    "Same final result, of course."
   ]
  },
  {
   "cell_type": "code",
   "execution_count": 20,
   "metadata": {},
   "outputs": [
    {
     "data": {
      "text/plain": [
       "True"
      ]
     },
     "execution_count": 20,
     "metadata": {},
     "output_type": "execute_result"
    }
   ],
   "source": [
    "selected == selected2"
   ]
  }
 ],
 "metadata": {
  "kernelspec": {
   "display_name": "Python 2",
   "language": "python",
   "name": "python2"
  },
  "language_info": {
   "codemirror_mode": {
    "name": "ipython",
    "version": 2
   },
   "file_extension": ".py",
   "mimetype": "text/x-python",
   "name": "python",
   "nbconvert_exporter": "python",
   "pygments_lexer": "ipython2",
   "version": "2.7.6"
  }
 },
 "nbformat": 4,
 "nbformat_minor": 1
}
